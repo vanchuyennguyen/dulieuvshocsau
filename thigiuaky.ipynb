{
 "cells": [
  {
   "cell_type": "markdown",
   "metadata": {},
   "source": [
    "1. Tạo Dataframe như dữ liệu đã cho trên."
   ]
  },
  {
   "cell_type": "code",
   "execution_count": 125,
   "metadata": {},
   "outputs": [],
   "source": [
    "import pandas as pd\n",
    "import matplotlib.pyplot as plt\n",
    "import seaborn as sns\n",
    "import numpy as np\n",
    "\n",
    "data = {\n",
    "    \"Product\": [\"Laptop\", \"Phone\", \"Chair\", \"Desk\", \"Headphone\", \"Monitor\", \"Sofa\", \"Keyboard\", \"Mouse\", \"Tablet\"],\n",
    "    \"Category\": [\"Electronics\", \"Electronics\", \"Furniture\", \"Furniture\", \"Accessories\", \"Electronics\", \"Furniture\", \"Accessories\", \"Accessories\", \"Electronics\"],\n",
    "    \"Price\": [1500, 800, 120, 300, 200, 600, 700, 150, 50, 400],\n",
    "    \"Date\": pd.to_datetime([\"2024-01-15\", \"2024-02-10\", \"2024-03-15\", \"2024-03-18\", \"2024-04-12\", \"2024-05-20\", \"2024-06-20\", \"2024-02-08\", \"2024-07-14\", \"2024-09-30\"]),\n",
    "    \"Quantity\": [2, 5, 3, 1, 4, 2, 1, 6, 8, 3]\n",
    "}\n",
    "df = pd.DataFrame(data)"
   ]
  },
  {
   "cell_type": "markdown",
   "metadata": {},
   "source": [
    "2. Hiển thị thông tin Dataframe vừa tạo."
   ]
  },
  {
   "cell_type": "code",
   "execution_count": 126,
   "metadata": {},
   "outputs": [
    {
     "data": {
      "text/html": [
       "<div>\n",
       "<style scoped>\n",
       "    .dataframe tbody tr th:only-of-type {\n",
       "        vertical-align: middle;\n",
       "    }\n",
       "\n",
       "    .dataframe tbody tr th {\n",
       "        vertical-align: top;\n",
       "    }\n",
       "\n",
       "    .dataframe thead th {\n",
       "        text-align: right;\n",
       "    }\n",
       "</style>\n",
       "<table border=\"1\" class=\"dataframe\">\n",
       "  <thead>\n",
       "    <tr style=\"text-align: right;\">\n",
       "      <th></th>\n",
       "      <th>Product</th>\n",
       "      <th>Category</th>\n",
       "      <th>Price</th>\n",
       "      <th>Date</th>\n",
       "      <th>Quantity</th>\n",
       "    </tr>\n",
       "  </thead>\n",
       "  <tbody>\n",
       "    <tr>\n",
       "      <th>0</th>\n",
       "      <td>Laptop</td>\n",
       "      <td>Electronics</td>\n",
       "      <td>1500</td>\n",
       "      <td>2024-01-15</td>\n",
       "      <td>2</td>\n",
       "    </tr>\n",
       "    <tr>\n",
       "      <th>1</th>\n",
       "      <td>Phone</td>\n",
       "      <td>Electronics</td>\n",
       "      <td>800</td>\n",
       "      <td>2024-02-10</td>\n",
       "      <td>5</td>\n",
       "    </tr>\n",
       "    <tr>\n",
       "      <th>2</th>\n",
       "      <td>Chair</td>\n",
       "      <td>Furniture</td>\n",
       "      <td>120</td>\n",
       "      <td>2024-03-15</td>\n",
       "      <td>3</td>\n",
       "    </tr>\n",
       "    <tr>\n",
       "      <th>3</th>\n",
       "      <td>Desk</td>\n",
       "      <td>Furniture</td>\n",
       "      <td>300</td>\n",
       "      <td>2024-03-18</td>\n",
       "      <td>1</td>\n",
       "    </tr>\n",
       "    <tr>\n",
       "      <th>4</th>\n",
       "      <td>Headphone</td>\n",
       "      <td>Accessories</td>\n",
       "      <td>200</td>\n",
       "      <td>2024-04-12</td>\n",
       "      <td>4</td>\n",
       "    </tr>\n",
       "    <tr>\n",
       "      <th>5</th>\n",
       "      <td>Monitor</td>\n",
       "      <td>Electronics</td>\n",
       "      <td>600</td>\n",
       "      <td>2024-05-20</td>\n",
       "      <td>2</td>\n",
       "    </tr>\n",
       "    <tr>\n",
       "      <th>6</th>\n",
       "      <td>Sofa</td>\n",
       "      <td>Furniture</td>\n",
       "      <td>700</td>\n",
       "      <td>2024-06-20</td>\n",
       "      <td>1</td>\n",
       "    </tr>\n",
       "    <tr>\n",
       "      <th>7</th>\n",
       "      <td>Keyboard</td>\n",
       "      <td>Accessories</td>\n",
       "      <td>150</td>\n",
       "      <td>2024-02-08</td>\n",
       "      <td>6</td>\n",
       "    </tr>\n",
       "    <tr>\n",
       "      <th>8</th>\n",
       "      <td>Mouse</td>\n",
       "      <td>Accessories</td>\n",
       "      <td>50</td>\n",
       "      <td>2024-07-14</td>\n",
       "      <td>8</td>\n",
       "    </tr>\n",
       "    <tr>\n",
       "      <th>9</th>\n",
       "      <td>Tablet</td>\n",
       "      <td>Electronics</td>\n",
       "      <td>400</td>\n",
       "      <td>2024-09-30</td>\n",
       "      <td>3</td>\n",
       "    </tr>\n",
       "  </tbody>\n",
       "</table>\n",
       "</div>"
      ],
      "text/plain": [
       "     Product     Category  Price       Date  Quantity\n",
       "0     Laptop  Electronics   1500 2024-01-15         2\n",
       "1      Phone  Electronics    800 2024-02-10         5\n",
       "2      Chair    Furniture    120 2024-03-15         3\n",
       "3       Desk    Furniture    300 2024-03-18         1\n",
       "4  Headphone  Accessories    200 2024-04-12         4\n",
       "5    Monitor  Electronics    600 2024-05-20         2\n",
       "6       Sofa    Furniture    700 2024-06-20         1\n",
       "7   Keyboard  Accessories    150 2024-02-08         6\n",
       "8      Mouse  Accessories     50 2024-07-14         8\n",
       "9     Tablet  Electronics    400 2024-09-30         3"
      ]
     },
     "execution_count": 126,
     "metadata": {},
     "output_type": "execute_result"
    }
   ],
   "source": [
    "df "
   ]
  },
  {
   "cell_type": "markdown",
   "metadata": {},
   "source": [
    "3. Tính giá trị trung bình của cột < Price >"
   ]
  },
  {
   "cell_type": "code",
   "execution_count": 127,
   "metadata": {},
   "outputs": [
    {
     "name": "stdout",
     "output_type": "stream",
     "text": [
      "Giá trị trung bình của cột Price là: 482.00\n"
     ]
    }
   ],
   "source": [
    "mean_Price = df[\"Price\"].mean()\n",
    "\n",
    "print(f\"Giá trị trung bình của cột Price là: {mean_Price:.2f}\")"
   ]
  },
  {
   "cell_type": "markdown",
   "metadata": {},
   "source": [
    "4  Nhóm dữ liệu cột <Category> và tình tổng trung bình cột <Quantity>."
   ]
  },
  {
   "cell_type": "code",
   "execution_count": 128,
   "metadata": {},
   "outputs": [
    {
     "name": "stdout",
     "output_type": "stream",
     "text": [
      "Category\n",
      "Accessories    6.000000\n",
      "Electronics    3.000000\n",
      "Furniture      1.666667\n",
      "Name: Quantity, dtype: float64\n"
     ]
    }
   ],
   "source": [
    "grouped_df = df.groupby(\"Category\")[\"Quantity\"].mean()\n",
    "print(grouped_df)"
   ]
  },
  {
   "cell_type": "markdown",
   "metadata": {},
   "source": [
    "5. Sấp xếp Dataframe theo cột <Price> giảm dần"
   ]
  },
  {
   "cell_type": "code",
   "execution_count": 129,
   "metadata": {},
   "outputs": [
    {
     "name": "stdout",
     "output_type": "stream",
     "text": [
      "     Product     Category  Price       Date  Quantity\n",
      "0     Laptop  Electronics   1500 2024-01-15         2\n",
      "1      Phone  Electronics    800 2024-02-10         5\n",
      "6       Sofa    Furniture    700 2024-06-20         1\n",
      "5    Monitor  Electronics    600 2024-05-20         2\n",
      "9     Tablet  Electronics    400 2024-09-30         3\n",
      "3       Desk    Furniture    300 2024-03-18         1\n",
      "4  Headphone  Accessories    200 2024-04-12         4\n",
      "7   Keyboard  Accessories    150 2024-02-08         6\n",
      "2      Chair    Furniture    120 2024-03-15         3\n",
      "8      Mouse  Accessories     50 2024-07-14         8\n"
     ]
    }
   ],
   "source": [
    "df_sorted = df.sort_values(by=\"Price\", ascending=False)\n",
    "print(df_sorted)"
   ]
  },
  {
   "cell_type": "markdown",
   "metadata": {},
   "source": [
    "6. Vẽ biểu đồ cột cho <Price>."
   ]
  },
  {
   "cell_type": "code",
   "execution_count": 130,
   "metadata": {},
   "outputs": [
    {
     "data": {
      "image/png": "[encoded data removed]",
      "text/plain": [
       "<Figure size 1000x500 with 1 Axes>"
      ]
     },
     "metadata": {},
     "output_type": "display_data"
    }
   ],
   "source": [
    "plt.figure(figsize=(10, 5))\n",
    "plt.bar(df[\"Product\"], df[\"Price\"], color=\"skyblue\")\n",
    "plt.xlabel(\"Tên\")\n",
    "plt.ylabel(\"Tuổi (Price)\")\n",
    "plt.title(\"Biểu đồ cột của Price\")\n",
    "plt.xticks(rotation=45, ha=\"right\")\n",
    "plt.show()"
   ]
  },
  {
   "cell_type": "markdown",
   "metadata": {},
   "source": [
    "7. Vẽ biểu đồ phân tán cho <Quantity> và <Price>."
   ]
  },
  {
   "cell_type": "code",
   "execution_count": 131,
   "metadata": {},
   "outputs": [
    {
     "data": {
      "image/png": "[encoded data removed]",
      "text/plain": [
       "<Figure size 800x500 with 1 Axes>"
      ]
     },
     "metadata": {},
     "output_type": "display_data"
    }
   ],
   "source": [
    "plt.figure(figsize=(8, 5))\n",
    "plt.scatter(df[\"Quantity\"], df[\"Price\"], color=\"red\", marker=\"o\")\n",
    "plt.xlabel(\"Tuổi (Quantity)\")\n",
    "plt.ylabel(\"Chiều cao (Price)\")\n",
    "plt.title(\"Biểu đồ phân tán của Quantity và Price\")\n",
    "plt.show()"
   ]
  },
  {
   "cell_type": "markdown",
   "metadata": {},
   "source": [
    "8. Vẽ biểu đồ đường cho cột <Date>."
   ]
  },
  {
   "cell_type": "code",
   "execution_count": 132,
   "metadata": {},
   "outputs": [
    {
     "data": {
      "image/png": "[encoded data removed]",
      "text/plain": [
       "<Figure size 1000x500 with 1 Axes>"
      ]
     },
     "metadata": {},
     "output_type": "display_data"
    }
   ],
   "source": [
    "plt.figure(figsize=(10,5))\n",
    "sns.lineplot(x=\"Date\", y=\"Price\", data=df, marker=\"o\")\n",
    "plt.xticks(rotation=45)\n",
    "plt.title(\"Price Over Time\")\n",
    "plt.show()"
   ]
  },
  {
   "cell_type": "markdown",
   "metadata": {},
   "source": [
    "9. Vẽ biểu đồ cột thể hiện tổng doanh thu của từng <Category>."
   ]
  },
  {
   "cell_type": "code",
   "execution_count": 133,
   "metadata": {},
   "outputs": [
    {
     "name": "stderr",
     "output_type": "stream",
     "text": [
      "C:\\Users\\Admin\\AppData\\Local\\Temp\\ipykernel_5964\\2990944747.py:3: FutureWarning: \n",
      "\n",
      "Passing `palette` without assigning `hue` is deprecated and will be removed in v0.14.0. Assign the `x` variable to `hue` and set `legend=False` for the same effect.\n",
      "\n",
      "  sns.barplot(x=\"Category\", y=\"Revenue\", data=df, estimator=sum, palette=\"coolwarm\")\n"
     ]
    },
    {
     "data": {
      "image/png": "[encoded data removed]",
      "text/plain": [
       "<Figure size 1000x500 with 1 Axes>"
      ]
     },
     "metadata": {},
     "output_type": "display_data"
    }
   ],
   "source": [
    "df[\"Revenue\"] = df[\"Price\"] * df[\"Quantity\"]\n",
    "plt.figure(figsize=(10,5))\n",
    "sns.barplot(x=\"Category\", y=\"Revenue\", data=df, estimator=sum, palette=\"coolwarm\")\n",
    "plt.title(\"Total Revenue by Category\")\n",
    "plt.show()\n"
   ]
  },
  {
   "cell_type": "markdown",
   "metadata": {},
   "source": [
    "10. Kiểm tra có giá trị NaN nào trong DataFrame không"
   ]
  },
  {
   "cell_type": "code",
   "execution_count": 134,
   "metadata": {},
   "outputs": [
    {
     "name": "stdout",
     "output_type": "stream",
     "text": [
      "Số lượng giá trị NaN trong DataFrame:\n",
      "Product     0\n",
      "Category    0\n",
      "Price       0\n",
      "Date        0\n",
      "Quantity    0\n",
      "Revenue     0\n",
      "dtype: int64\n"
     ]
    }
   ],
   "source": [
    "print(\"Số lượng giá trị NaN trong DataFrame:\")\n",
    "print(df.isna().sum())\n"
   ]
  },
  {
   "cell_type": "markdown",
   "metadata": {},
   "source": [
    "11. Tìm các giá trị trùng lặp trong DataFrame dựa trên cột 'Product' và loại bỏ các hàng trùng lặp, giữ lại hàng đầu tiên"
   ]
  },
  {
   "cell_type": "code",
   "execution_count": 135,
   "metadata": {},
   "outputs": [
    {
     "name": "stdout",
     "output_type": "stream",
     "text": [
      "Các hàng trùng lặp:\n",
      "Empty DataFrame\n",
      "Columns: [Product, Category, Price, Date, Quantity, Revenue]\n",
      "Index: []\n",
      "\n",
      "DataFrame sau khi loại bỏ các hàng trùng lặp:\n",
      "     Product     Category  Price       Date  Quantity  Revenue\n",
      "0     Laptop  Electronics   1500 2024-01-15         2     3000\n",
      "1      Phone  Electronics    800 2024-02-10         5     4000\n",
      "2      Chair    Furniture    120 2024-03-15         3      360\n",
      "3       Desk    Furniture    300 2024-03-18         1      300\n",
      "4  Headphone  Accessories    200 2024-04-12         4      800\n",
      "5    Monitor  Electronics    600 2024-05-20         2     1200\n",
      "6       Sofa    Furniture    700 2024-06-20         1      700\n",
      "7   Keyboard  Accessories    150 2024-02-08         6      900\n",
      "8      Mouse  Accessories     50 2024-07-14         8      400\n",
      "9     Tablet  Electronics    400 2024-09-30         3     1200\n"
     ]
    }
   ],
   "source": [
    "duplicates = df[df.duplicated(subset=[\"Product\"], keep=False)]\n",
    "print(\"Các hàng trùng lặp:\")\n",
    "print(duplicates)\n",
    "df_cleaned = df.drop_duplicates(subset=[\"Product\"], keep=\"first\")\n",
    "print(\"\\nDataFrame sau khi loại bỏ các hàng trùng lặp:\")\n",
    "print(df_cleaned)"
   ]
  },
  {
   "cell_type": "markdown",
   "metadata": {},
   "source": [
    "12. Lọc ra các đơn hàng có số lượng (Quantity) lớn hơn 5"
   ]
  },
  {
   "cell_type": "code",
   "execution_count": 136,
   "metadata": {},
   "outputs": [
    {
     "name": "stdout",
     "output_type": "stream",
     "text": [
      "    Product     Category  Price       Date  Quantity  Revenue\n",
      "7  Keyboard  Accessories    150 2024-02-08         6      900\n",
      "8     Mouse  Accessories     50 2024-07-14         8      400\n"
     ]
    }
   ],
   "source": [
    "print(df[df[\"Quantity\"] > 5])"
   ]
  },
  {
   "cell_type": "markdown",
   "metadata": {},
   "source": [
    "13. Tổng doanh thu được tính theo công thức sau:\n",
    "\n",
    "Revenue = Quantity × Price\n",
    "\n",
    "Tạo một cột mới trong Dataframe với tên <Revenue> gồm tổng doanh thu của các sản phẩm.\n"
   ]
  },
  {
   "cell_type": "code",
   "execution_count": 137,
   "metadata": {},
   "outputs": [
    {
     "data": {
      "text/html": [
       "<div>\n",
       "<style scoped>\n",
       "    .dataframe tbody tr th:only-of-type {\n",
       "        vertical-align: middle;\n",
       "    }\n",
       "\n",
       "    .dataframe tbody tr th {\n",
       "        vertical-align: top;\n",
       "    }\n",
       "\n",
       "    .dataframe thead th {\n",
       "        text-align: right;\n",
       "    }\n",
       "</style>\n",
       "<table border=\"1\" class=\"dataframe\">\n",
       "  <thead>\n",
       "    <tr style=\"text-align: right;\">\n",
       "      <th></th>\n",
       "      <th>Product</th>\n",
       "      <th>Category</th>\n",
       "      <th>Price</th>\n",
       "      <th>Date</th>\n",
       "      <th>Quantity</th>\n",
       "      <th>Revenue</th>\n",
       "    </tr>\n",
       "  </thead>\n",
       "  <tbody>\n",
       "    <tr>\n",
       "      <th>0</th>\n",
       "      <td>Laptop</td>\n",
       "      <td>Electronics</td>\n",
       "      <td>1500</td>\n",
       "      <td>2024-01-15</td>\n",
       "      <td>2</td>\n",
       "      <td>3000</td>\n",
       "    </tr>\n",
       "    <tr>\n",
       "      <th>1</th>\n",
       "      <td>Phone</td>\n",
       "      <td>Electronics</td>\n",
       "      <td>800</td>\n",
       "      <td>2024-02-10</td>\n",
       "      <td>5</td>\n",
       "      <td>4000</td>\n",
       "    </tr>\n",
       "    <tr>\n",
       "      <th>2</th>\n",
       "      <td>Chair</td>\n",
       "      <td>Furniture</td>\n",
       "      <td>120</td>\n",
       "      <td>2024-03-15</td>\n",
       "      <td>3</td>\n",
       "      <td>360</td>\n",
       "    </tr>\n",
       "    <tr>\n",
       "      <th>3</th>\n",
       "      <td>Desk</td>\n",
       "      <td>Furniture</td>\n",
       "      <td>300</td>\n",
       "      <td>2024-03-18</td>\n",
       "      <td>1</td>\n",
       "      <td>300</td>\n",
       "    </tr>\n",
       "    <tr>\n",
       "      <th>4</th>\n",
       "      <td>Headphone</td>\n",
       "      <td>Accessories</td>\n",
       "      <td>200</td>\n",
       "      <td>2024-04-12</td>\n",
       "      <td>4</td>\n",
       "      <td>800</td>\n",
       "    </tr>\n",
       "    <tr>\n",
       "      <th>5</th>\n",
       "      <td>Monitor</td>\n",
       "      <td>Electronics</td>\n",
       "      <td>600</td>\n",
       "      <td>2024-05-20</td>\n",
       "      <td>2</td>\n",
       "      <td>1200</td>\n",
       "    </tr>\n",
       "    <tr>\n",
       "      <th>6</th>\n",
       "      <td>Sofa</td>\n",
       "      <td>Furniture</td>\n",
       "      <td>700</td>\n",
       "      <td>2024-06-20</td>\n",
       "      <td>1</td>\n",
       "      <td>700</td>\n",
       "    </tr>\n",
       "    <tr>\n",
       "      <th>7</th>\n",
       "      <td>Keyboard</td>\n",
       "      <td>Accessories</td>\n",
       "      <td>150</td>\n",
       "      <td>2024-02-08</td>\n",
       "      <td>6</td>\n",
       "      <td>900</td>\n",
       "    </tr>\n",
       "    <tr>\n",
       "      <th>8</th>\n",
       "      <td>Mouse</td>\n",
       "      <td>Accessories</td>\n",
       "      <td>50</td>\n",
       "      <td>2024-07-14</td>\n",
       "      <td>8</td>\n",
       "      <td>400</td>\n",
       "    </tr>\n",
       "    <tr>\n",
       "      <th>9</th>\n",
       "      <td>Tablet</td>\n",
       "      <td>Electronics</td>\n",
       "      <td>400</td>\n",
       "      <td>2024-09-30</td>\n",
       "      <td>3</td>\n",
       "      <td>1200</td>\n",
       "    </tr>\n",
       "  </tbody>\n",
       "</table>\n",
       "</div>"
      ],
      "text/plain": [
       "     Product     Category  Price       Date  Quantity  Revenue\n",
       "0     Laptop  Electronics   1500 2024-01-15         2     3000\n",
       "1      Phone  Electronics    800 2024-02-10         5     4000\n",
       "2      Chair    Furniture    120 2024-03-15         3      360\n",
       "3       Desk    Furniture    300 2024-03-18         1      300\n",
       "4  Headphone  Accessories    200 2024-04-12         4      800\n",
       "5    Monitor  Electronics    600 2024-05-20         2     1200\n",
       "6       Sofa    Furniture    700 2024-06-20         1      700\n",
       "7   Keyboard  Accessories    150 2024-02-08         6      900\n",
       "8      Mouse  Accessories     50 2024-07-14         8      400\n",
       "9     Tablet  Electronics    400 2024-09-30         3     1200"
      ]
     },
     "execution_count": 137,
     "metadata": {},
     "output_type": "execute_result"
    }
   ],
   "source": [
    "df[\"Revenue\"] = df[\"Quantity\"] * df[\"Price\"]\n",
    "df"
   ]
  },
  {
   "cell_type": "markdown",
   "metadata": {},
   "source": [
    "14. Thêm một cột <Sales_Level> với điều kiện:\n",
    "+ < 500  ->>  Low\n",
    "+ 500 --- 2000  ->> Medium\n",
    "+ >2000   ->> High \n"
   ]
  },
  {
   "cell_type": "code",
   "execution_count": 138,
   "metadata": {},
   "outputs": [
    {
     "data": {
      "text/html": [
       "<div>\n",
       "<style scoped>\n",
       "    .dataframe tbody tr th:only-of-type {\n",
       "        vertical-align: middle;\n",
       "    }\n",
       "\n",
       "    .dataframe tbody tr th {\n",
       "        vertical-align: top;\n",
       "    }\n",
       "\n",
       "    .dataframe thead th {\n",
       "        text-align: right;\n",
       "    }\n",
       "</style>\n",
       "<table border=\"1\" class=\"dataframe\">\n",
       "  <thead>\n",
       "    <tr style=\"text-align: right;\">\n",
       "      <th></th>\n",
       "      <th>Product</th>\n",
       "      <th>Category</th>\n",
       "      <th>Price</th>\n",
       "      <th>Date</th>\n",
       "      <th>Quantity</th>\n",
       "      <th>Revenue</th>\n",
       "      <th>Sales_Level</th>\n",
       "    </tr>\n",
       "  </thead>\n",
       "  <tbody>\n",
       "    <tr>\n",
       "      <th>0</th>\n",
       "      <td>Laptop</td>\n",
       "      <td>Electronics</td>\n",
       "      <td>1500</td>\n",
       "      <td>2024-01-15</td>\n",
       "      <td>2</td>\n",
       "      <td>3000</td>\n",
       "      <td>High</td>\n",
       "    </tr>\n",
       "    <tr>\n",
       "      <th>1</th>\n",
       "      <td>Phone</td>\n",
       "      <td>Electronics</td>\n",
       "      <td>800</td>\n",
       "      <td>2024-02-10</td>\n",
       "      <td>5</td>\n",
       "      <td>4000</td>\n",
       "      <td>High</td>\n",
       "    </tr>\n",
       "    <tr>\n",
       "      <th>2</th>\n",
       "      <td>Chair</td>\n",
       "      <td>Furniture</td>\n",
       "      <td>120</td>\n",
       "      <td>2024-03-15</td>\n",
       "      <td>3</td>\n",
       "      <td>360</td>\n",
       "      <td>Low</td>\n",
       "    </tr>\n",
       "    <tr>\n",
       "      <th>3</th>\n",
       "      <td>Desk</td>\n",
       "      <td>Furniture</td>\n",
       "      <td>300</td>\n",
       "      <td>2024-03-18</td>\n",
       "      <td>1</td>\n",
       "      <td>300</td>\n",
       "      <td>Low</td>\n",
       "    </tr>\n",
       "    <tr>\n",
       "      <th>4</th>\n",
       "      <td>Headphone</td>\n",
       "      <td>Accessories</td>\n",
       "      <td>200</td>\n",
       "      <td>2024-04-12</td>\n",
       "      <td>4</td>\n",
       "      <td>800</td>\n",
       "      <td>Medium</td>\n",
       "    </tr>\n",
       "    <tr>\n",
       "      <th>5</th>\n",
       "      <td>Monitor</td>\n",
       "      <td>Electronics</td>\n",
       "      <td>600</td>\n",
       "      <td>2024-05-20</td>\n",
       "      <td>2</td>\n",
       "      <td>1200</td>\n",
       "      <td>Medium</td>\n",
       "    </tr>\n",
       "    <tr>\n",
       "      <th>6</th>\n",
       "      <td>Sofa</td>\n",
       "      <td>Furniture</td>\n",
       "      <td>700</td>\n",
       "      <td>2024-06-20</td>\n",
       "      <td>1</td>\n",
       "      <td>700</td>\n",
       "      <td>Medium</td>\n",
       "    </tr>\n",
       "    <tr>\n",
       "      <th>7</th>\n",
       "      <td>Keyboard</td>\n",
       "      <td>Accessories</td>\n",
       "      <td>150</td>\n",
       "      <td>2024-02-08</td>\n",
       "      <td>6</td>\n",
       "      <td>900</td>\n",
       "      <td>Medium</td>\n",
       "    </tr>\n",
       "    <tr>\n",
       "      <th>8</th>\n",
       "      <td>Mouse</td>\n",
       "      <td>Accessories</td>\n",
       "      <td>50</td>\n",
       "      <td>2024-07-14</td>\n",
       "      <td>8</td>\n",
       "      <td>400</td>\n",
       "      <td>Low</td>\n",
       "    </tr>\n",
       "    <tr>\n",
       "      <th>9</th>\n",
       "      <td>Tablet</td>\n",
       "      <td>Electronics</td>\n",
       "      <td>400</td>\n",
       "      <td>2024-09-30</td>\n",
       "      <td>3</td>\n",
       "      <td>1200</td>\n",
       "      <td>Medium</td>\n",
       "    </tr>\n",
       "  </tbody>\n",
       "</table>\n",
       "</div>"
      ],
      "text/plain": [
       "     Product     Category  Price       Date  Quantity  Revenue Sales_Level\n",
       "0     Laptop  Electronics   1500 2024-01-15         2     3000        High\n",
       "1      Phone  Electronics    800 2024-02-10         5     4000        High\n",
       "2      Chair    Furniture    120 2024-03-15         3      360         Low\n",
       "3       Desk    Furniture    300 2024-03-18         1      300         Low\n",
       "4  Headphone  Accessories    200 2024-04-12         4      800      Medium\n",
       "5    Monitor  Electronics    600 2024-05-20         2     1200      Medium\n",
       "6       Sofa    Furniture    700 2024-06-20         1      700      Medium\n",
       "7   Keyboard  Accessories    150 2024-02-08         6      900      Medium\n",
       "8      Mouse  Accessories     50 2024-07-14         8      400         Low\n",
       "9     Tablet  Electronics    400 2024-09-30         3     1200      Medium"
      ]
     },
     "execution_count": 138,
     "metadata": {},
     "output_type": "execute_result"
    }
   ],
   "source": [
    "df[\"Sales_Level\"] = pd.cut(df[\"Revenue\"], bins=[0, 500, 2000, float(\"inf\")], labels=[\"Low\", \"Medium\", \"High\"])\n",
    "df"
   ]
  },
  {
   "cell_type": "markdown",
   "metadata": {},
   "source": [
    "15. Vẽ biểu đồ cột thể hiện số lượng đơn hàng ở từng mức <Sales_Level>."
   ]
  },
  {
   "cell_type": "code",
   "execution_count": 139,
   "metadata": {},
   "outputs": [
    {
     "name": "stderr",
     "output_type": "stream",
     "text": [
      "C:\\Users\\Admin\\AppData\\Local\\Temp\\ipykernel_5964\\1968676570.py:2: FutureWarning: \n",
      "\n",
      "Passing `palette` without assigning `hue` is deprecated and will be removed in v0.14.0. Assign the `x` variable to `hue` and set `legend=False` for the same effect.\n",
      "\n",
      "  sns.countplot(x=\"Sales_Level\", data=df, palette=\"pastel\")\n"
     ]
    },
    {
     "data": {
      "image/png": "[encoded data removed]",
      "text/plain": [
       "<Figure size 800x500 with 1 Axes>"
      ]
     },
     "metadata": {},
     "output_type": "display_data"
    }
   ],
   "source": [
    "plt.figure(figsize=(8,5))\n",
    "sns.countplot(x=\"Sales_Level\", data=df, palette=\"pastel\")\n",
    "plt.title(\"Orders by Sales Level\")\n",
    "plt.show()"
   ]
  },
  {
   "cell_type": "markdown",
   "metadata": {},
   "source": [
    "16. Tạo một cột mới <Discount> với giá trị giảm giá 10% nếu doanh thu (Revenue) > 1000, ngược lại giảm giá 5%."
   ]
  },
  {
   "cell_type": "code",
   "execution_count": 140,
   "metadata": {},
   "outputs": [
    {
     "data": {
      "text/html": [
       "<div>\n",
       "<style scoped>\n",
       "    .dataframe tbody tr th:only-of-type {\n",
       "        vertical-align: middle;\n",
       "    }\n",
       "\n",
       "    .dataframe tbody tr th {\n",
       "        vertical-align: top;\n",
       "    }\n",
       "\n",
       "    .dataframe thead th {\n",
       "        text-align: right;\n",
       "    }\n",
       "</style>\n",
       "<table border=\"1\" class=\"dataframe\">\n",
       "  <thead>\n",
       "    <tr style=\"text-align: right;\">\n",
       "      <th></th>\n",
       "      <th>Product</th>\n",
       "      <th>Category</th>\n",
       "      <th>Price</th>\n",
       "      <th>Date</th>\n",
       "      <th>Quantity</th>\n",
       "      <th>Revenue</th>\n",
       "      <th>Sales_Level</th>\n",
       "      <th>Discount</th>\n",
       "    </tr>\n",
       "  </thead>\n",
       "  <tbody>\n",
       "    <tr>\n",
       "      <th>0</th>\n",
       "      <td>Laptop</td>\n",
       "      <td>Electronics</td>\n",
       "      <td>1500</td>\n",
       "      <td>2024-01-15</td>\n",
       "      <td>2</td>\n",
       "      <td>3000</td>\n",
       "      <td>High</td>\n",
       "      <td>0.10</td>\n",
       "    </tr>\n",
       "    <tr>\n",
       "      <th>1</th>\n",
       "      <td>Phone</td>\n",
       "      <td>Electronics</td>\n",
       "      <td>800</td>\n",
       "      <td>2024-02-10</td>\n",
       "      <td>5</td>\n",
       "      <td>4000</td>\n",
       "      <td>High</td>\n",
       "      <td>0.10</td>\n",
       "    </tr>\n",
       "    <tr>\n",
       "      <th>2</th>\n",
       "      <td>Chair</td>\n",
       "      <td>Furniture</td>\n",
       "      <td>120</td>\n",
       "      <td>2024-03-15</td>\n",
       "      <td>3</td>\n",
       "      <td>360</td>\n",
       "      <td>Low</td>\n",
       "      <td>0.05</td>\n",
       "    </tr>\n",
       "    <tr>\n",
       "      <th>3</th>\n",
       "      <td>Desk</td>\n",
       "      <td>Furniture</td>\n",
       "      <td>300</td>\n",
       "      <td>2024-03-18</td>\n",
       "      <td>1</td>\n",
       "      <td>300</td>\n",
       "      <td>Low</td>\n",
       "      <td>0.05</td>\n",
       "    </tr>\n",
       "    <tr>\n",
       "      <th>4</th>\n",
       "      <td>Headphone</td>\n",
       "      <td>Accessories</td>\n",
       "      <td>200</td>\n",
       "      <td>2024-04-12</td>\n",
       "      <td>4</td>\n",
       "      <td>800</td>\n",
       "      <td>Medium</td>\n",
       "      <td>0.05</td>\n",
       "    </tr>\n",
       "    <tr>\n",
       "      <th>5</th>\n",
       "      <td>Monitor</td>\n",
       "      <td>Electronics</td>\n",
       "      <td>600</td>\n",
       "      <td>2024-05-20</td>\n",
       "      <td>2</td>\n",
       "      <td>1200</td>\n",
       "      <td>Medium</td>\n",
       "      <td>0.10</td>\n",
       "    </tr>\n",
       "    <tr>\n",
       "      <th>6</th>\n",
       "      <td>Sofa</td>\n",
       "      <td>Furniture</td>\n",
       "      <td>700</td>\n",
       "      <td>2024-06-20</td>\n",
       "      <td>1</td>\n",
       "      <td>700</td>\n",
       "      <td>Medium</td>\n",
       "      <td>0.05</td>\n",
       "    </tr>\n",
       "    <tr>\n",
       "      <th>7</th>\n",
       "      <td>Keyboard</td>\n",
       "      <td>Accessories</td>\n",
       "      <td>150</td>\n",
       "      <td>2024-02-08</td>\n",
       "      <td>6</td>\n",
       "      <td>900</td>\n",
       "      <td>Medium</td>\n",
       "      <td>0.05</td>\n",
       "    </tr>\n",
       "    <tr>\n",
       "      <th>8</th>\n",
       "      <td>Mouse</td>\n",
       "      <td>Accessories</td>\n",
       "      <td>50</td>\n",
       "      <td>2024-07-14</td>\n",
       "      <td>8</td>\n",
       "      <td>400</td>\n",
       "      <td>Low</td>\n",
       "      <td>0.05</td>\n",
       "    </tr>\n",
       "    <tr>\n",
       "      <th>9</th>\n",
       "      <td>Tablet</td>\n",
       "      <td>Electronics</td>\n",
       "      <td>400</td>\n",
       "      <td>2024-09-30</td>\n",
       "      <td>3</td>\n",
       "      <td>1200</td>\n",
       "      <td>Medium</td>\n",
       "      <td>0.10</td>\n",
       "    </tr>\n",
       "  </tbody>\n",
       "</table>\n",
       "</div>"
      ],
      "text/plain": [
       "     Product     Category  Price       Date  Quantity  Revenue Sales_Level  \\\n",
       "0     Laptop  Electronics   1500 2024-01-15         2     3000        High   \n",
       "1      Phone  Electronics    800 2024-02-10         5     4000        High   \n",
       "2      Chair    Furniture    120 2024-03-15         3      360         Low   \n",
       "3       Desk    Furniture    300 2024-03-18         1      300         Low   \n",
       "4  Headphone  Accessories    200 2024-04-12         4      800      Medium   \n",
       "5    Monitor  Electronics    600 2024-05-20         2     1200      Medium   \n",
       "6       Sofa    Furniture    700 2024-06-20         1      700      Medium   \n",
       "7   Keyboard  Accessories    150 2024-02-08         6      900      Medium   \n",
       "8      Mouse  Accessories     50 2024-07-14         8      400         Low   \n",
       "9     Tablet  Electronics    400 2024-09-30         3     1200      Medium   \n",
       "\n",
       "   Discount  \n",
       "0      0.10  \n",
       "1      0.10  \n",
       "2      0.05  \n",
       "3      0.05  \n",
       "4      0.05  \n",
       "5      0.10  \n",
       "6      0.05  \n",
       "7      0.05  \n",
       "8      0.05  \n",
       "9      0.10  "
      ]
     },
     "execution_count": 140,
     "metadata": {},
     "output_type": "execute_result"
    }
   ],
   "source": [
    "df[\"Discount\"] = df[\"Revenue\"].apply(lambda x: 0.1 if x > 1000 else 0.05)\n",
    "df"
   ]
  },
  {
   "cell_type": "markdown",
   "metadata": {},
   "source": [
    "17. Tính doanh thu sau giảm giá <Final_Revenue> bằng công thức:\n",
    "\n",
    "Final_Revenue = Revenue - ( Revenue ×Discount ).\n",
    "\n",
    "Tạo một cột mới trong Dataframe với tên <Final_Revenue> gồm doanh thu sau giảm giá.\n"
   ]
  },
  {
   "cell_type": "code",
   "execution_count": 141,
   "metadata": {},
   "outputs": [
    {
     "data": {
      "text/html": [
       "<div>\n",
       "<style scoped>\n",
       "    .dataframe tbody tr th:only-of-type {\n",
       "        vertical-align: middle;\n",
       "    }\n",
       "\n",
       "    .dataframe tbody tr th {\n",
       "        vertical-align: top;\n",
       "    }\n",
       "\n",
       "    .dataframe thead th {\n",
       "        text-align: right;\n",
       "    }\n",
       "</style>\n",
       "<table border=\"1\" class=\"dataframe\">\n",
       "  <thead>\n",
       "    <tr style=\"text-align: right;\">\n",
       "      <th></th>\n",
       "      <th>Product</th>\n",
       "      <th>Category</th>\n",
       "      <th>Price</th>\n",
       "      <th>Date</th>\n",
       "      <th>Quantity</th>\n",
       "      <th>Revenue</th>\n",
       "      <th>Sales_Level</th>\n",
       "      <th>Discount</th>\n",
       "      <th>Final_Revenue</th>\n",
       "    </tr>\n",
       "  </thead>\n",
       "  <tbody>\n",
       "    <tr>\n",
       "      <th>0</th>\n",
       "      <td>Laptop</td>\n",
       "      <td>Electronics</td>\n",
       "      <td>1500</td>\n",
       "      <td>2024-01-15</td>\n",
       "      <td>2</td>\n",
       "      <td>3000</td>\n",
       "      <td>High</td>\n",
       "      <td>0.10</td>\n",
       "      <td>2700.0</td>\n",
       "    </tr>\n",
       "    <tr>\n",
       "      <th>1</th>\n",
       "      <td>Phone</td>\n",
       "      <td>Electronics</td>\n",
       "      <td>800</td>\n",
       "      <td>2024-02-10</td>\n",
       "      <td>5</td>\n",
       "      <td>4000</td>\n",
       "      <td>High</td>\n",
       "      <td>0.10</td>\n",
       "      <td>3600.0</td>\n",
       "    </tr>\n",
       "    <tr>\n",
       "      <th>2</th>\n",
       "      <td>Chair</td>\n",
       "      <td>Furniture</td>\n",
       "      <td>120</td>\n",
       "      <td>2024-03-15</td>\n",
       "      <td>3</td>\n",
       "      <td>360</td>\n",
       "      <td>Low</td>\n",
       "      <td>0.05</td>\n",
       "      <td>342.0</td>\n",
       "    </tr>\n",
       "    <tr>\n",
       "      <th>3</th>\n",
       "      <td>Desk</td>\n",
       "      <td>Furniture</td>\n",
       "      <td>300</td>\n",
       "      <td>2024-03-18</td>\n",
       "      <td>1</td>\n",
       "      <td>300</td>\n",
       "      <td>Low</td>\n",
       "      <td>0.05</td>\n",
       "      <td>285.0</td>\n",
       "    </tr>\n",
       "    <tr>\n",
       "      <th>4</th>\n",
       "      <td>Headphone</td>\n",
       "      <td>Accessories</td>\n",
       "      <td>200</td>\n",
       "      <td>2024-04-12</td>\n",
       "      <td>4</td>\n",
       "      <td>800</td>\n",
       "      <td>Medium</td>\n",
       "      <td>0.05</td>\n",
       "      <td>760.0</td>\n",
       "    </tr>\n",
       "    <tr>\n",
       "      <th>5</th>\n",
       "      <td>Monitor</td>\n",
       "      <td>Electronics</td>\n",
       "      <td>600</td>\n",
       "      <td>2024-05-20</td>\n",
       "      <td>2</td>\n",
       "      <td>1200</td>\n",
       "      <td>Medium</td>\n",
       "      <td>0.10</td>\n",
       "      <td>1080.0</td>\n",
       "    </tr>\n",
       "    <tr>\n",
       "      <th>6</th>\n",
       "      <td>Sofa</td>\n",
       "      <td>Furniture</td>\n",
       "      <td>700</td>\n",
       "      <td>2024-06-20</td>\n",
       "      <td>1</td>\n",
       "      <td>700</td>\n",
       "      <td>Medium</td>\n",
       "      <td>0.05</td>\n",
       "      <td>665.0</td>\n",
       "    </tr>\n",
       "    <tr>\n",
       "      <th>7</th>\n",
       "      <td>Keyboard</td>\n",
       "      <td>Accessories</td>\n",
       "      <td>150</td>\n",
       "      <td>2024-02-08</td>\n",
       "      <td>6</td>\n",
       "      <td>900</td>\n",
       "      <td>Medium</td>\n",
       "      <td>0.05</td>\n",
       "      <td>855.0</td>\n",
       "    </tr>\n",
       "    <tr>\n",
       "      <th>8</th>\n",
       "      <td>Mouse</td>\n",
       "      <td>Accessories</td>\n",
       "      <td>50</td>\n",
       "      <td>2024-07-14</td>\n",
       "      <td>8</td>\n",
       "      <td>400</td>\n",
       "      <td>Low</td>\n",
       "      <td>0.05</td>\n",
       "      <td>380.0</td>\n",
       "    </tr>\n",
       "    <tr>\n",
       "      <th>9</th>\n",
       "      <td>Tablet</td>\n",
       "      <td>Electronics</td>\n",
       "      <td>400</td>\n",
       "      <td>2024-09-30</td>\n",
       "      <td>3</td>\n",
       "      <td>1200</td>\n",
       "      <td>Medium</td>\n",
       "      <td>0.10</td>\n",
       "      <td>1080.0</td>\n",
       "    </tr>\n",
       "  </tbody>\n",
       "</table>\n",
       "</div>"
      ],
      "text/plain": [
       "     Product     Category  Price       Date  Quantity  Revenue Sales_Level  \\\n",
       "0     Laptop  Electronics   1500 2024-01-15         2     3000        High   \n",
       "1      Phone  Electronics    800 2024-02-10         5     4000        High   \n",
       "2      Chair    Furniture    120 2024-03-15         3      360         Low   \n",
       "3       Desk    Furniture    300 2024-03-18         1      300         Low   \n",
       "4  Headphone  Accessories    200 2024-04-12         4      800      Medium   \n",
       "5    Monitor  Electronics    600 2024-05-20         2     1200      Medium   \n",
       "6       Sofa    Furniture    700 2024-06-20         1      700      Medium   \n",
       "7   Keyboard  Accessories    150 2024-02-08         6      900      Medium   \n",
       "8      Mouse  Accessories     50 2024-07-14         8      400         Low   \n",
       "9     Tablet  Electronics    400 2024-09-30         3     1200      Medium   \n",
       "\n",
       "   Discount  Final_Revenue  \n",
       "0      0.10         2700.0  \n",
       "1      0.10         3600.0  \n",
       "2      0.05          342.0  \n",
       "3      0.05          285.0  \n",
       "4      0.05          760.0  \n",
       "5      0.10         1080.0  \n",
       "6      0.05          665.0  \n",
       "7      0.05          855.0  \n",
       "8      0.05          380.0  \n",
       "9      0.10         1080.0  "
      ]
     },
     "execution_count": 141,
     "metadata": {},
     "output_type": "execute_result"
    }
   ],
   "source": [
    "df[\"Final_Revenue\"] = df[\"Revenue\"] - (df[\"Revenue\"] * df[\"Discount\"])\n",
    "df"
   ]
  },
  {
   "cell_type": "markdown",
   "metadata": {},
   "source": [
    "18. Tạo cột <Month> lấy giá trị tháng từ cột <Date>."
   ]
  },
  {
   "cell_type": "code",
   "execution_count": 142,
   "metadata": {},
   "outputs": [
    {
     "data": {
      "text/html": [
       "<div>\n",
       "<style scoped>\n",
       "    .dataframe tbody tr th:only-of-type {\n",
       "        vertical-align: middle;\n",
       "    }\n",
       "\n",
       "    .dataframe tbody tr th {\n",
       "        vertical-align: top;\n",
       "    }\n",
       "\n",
       "    .dataframe thead th {\n",
       "        text-align: right;\n",
       "    }\n",
       "</style>\n",
       "<table border=\"1\" class=\"dataframe\">\n",
       "  <thead>\n",
       "    <tr style=\"text-align: right;\">\n",
       "      <th></th>\n",
       "      <th>Product</th>\n",
       "      <th>Category</th>\n",
       "      <th>Price</th>\n",
       "      <th>Date</th>\n",
       "      <th>Quantity</th>\n",
       "      <th>Revenue</th>\n",
       "      <th>Sales_Level</th>\n",
       "      <th>Discount</th>\n",
       "      <th>Final_Revenue</th>\n",
       "      <th>Month</th>\n",
       "    </tr>\n",
       "  </thead>\n",
       "  <tbody>\n",
       "    <tr>\n",
       "      <th>0</th>\n",
       "      <td>Laptop</td>\n",
       "      <td>Electronics</td>\n",
       "      <td>1500</td>\n",
       "      <td>2024-01-15</td>\n",
       "      <td>2</td>\n",
       "      <td>3000</td>\n",
       "      <td>High</td>\n",
       "      <td>0.10</td>\n",
       "      <td>2700.0</td>\n",
       "      <td>1</td>\n",
       "    </tr>\n",
       "    <tr>\n",
       "      <th>1</th>\n",
       "      <td>Phone</td>\n",
       "      <td>Electronics</td>\n",
       "      <td>800</td>\n",
       "      <td>2024-02-10</td>\n",
       "      <td>5</td>\n",
       "      <td>4000</td>\n",
       "      <td>High</td>\n",
       "      <td>0.10</td>\n",
       "      <td>3600.0</td>\n",
       "      <td>2</td>\n",
       "    </tr>\n",
       "    <tr>\n",
       "      <th>2</th>\n",
       "      <td>Chair</td>\n",
       "      <td>Furniture</td>\n",
       "      <td>120</td>\n",
       "      <td>2024-03-15</td>\n",
       "      <td>3</td>\n",
       "      <td>360</td>\n",
       "      <td>Low</td>\n",
       "      <td>0.05</td>\n",
       "      <td>342.0</td>\n",
       "      <td>3</td>\n",
       "    </tr>\n",
       "    <tr>\n",
       "      <th>3</th>\n",
       "      <td>Desk</td>\n",
       "      <td>Furniture</td>\n",
       "      <td>300</td>\n",
       "      <td>2024-03-18</td>\n",
       "      <td>1</td>\n",
       "      <td>300</td>\n",
       "      <td>Low</td>\n",
       "      <td>0.05</td>\n",
       "      <td>285.0</td>\n",
       "      <td>3</td>\n",
       "    </tr>\n",
       "    <tr>\n",
       "      <th>4</th>\n",
       "      <td>Headphone</td>\n",
       "      <td>Accessories</td>\n",
       "      <td>200</td>\n",
       "      <td>2024-04-12</td>\n",
       "      <td>4</td>\n",
       "      <td>800</td>\n",
       "      <td>Medium</td>\n",
       "      <td>0.05</td>\n",
       "      <td>760.0</td>\n",
       "      <td>4</td>\n",
       "    </tr>\n",
       "    <tr>\n",
       "      <th>5</th>\n",
       "      <td>Monitor</td>\n",
       "      <td>Electronics</td>\n",
       "      <td>600</td>\n",
       "      <td>2024-05-20</td>\n",
       "      <td>2</td>\n",
       "      <td>1200</td>\n",
       "      <td>Medium</td>\n",
       "      <td>0.10</td>\n",
       "      <td>1080.0</td>\n",
       "      <td>5</td>\n",
       "    </tr>\n",
       "    <tr>\n",
       "      <th>6</th>\n",
       "      <td>Sofa</td>\n",
       "      <td>Furniture</td>\n",
       "      <td>700</td>\n",
       "      <td>2024-06-20</td>\n",
       "      <td>1</td>\n",
       "      <td>700</td>\n",
       "      <td>Medium</td>\n",
       "      <td>0.05</td>\n",
       "      <td>665.0</td>\n",
       "      <td>6</td>\n",
       "    </tr>\n",
       "    <tr>\n",
       "      <th>7</th>\n",
       "      <td>Keyboard</td>\n",
       "      <td>Accessories</td>\n",
       "      <td>150</td>\n",
       "      <td>2024-02-08</td>\n",
       "      <td>6</td>\n",
       "      <td>900</td>\n",
       "      <td>Medium</td>\n",
       "      <td>0.05</td>\n",
       "      <td>855.0</td>\n",
       "      <td>2</td>\n",
       "    </tr>\n",
       "    <tr>\n",
       "      <th>8</th>\n",
       "      <td>Mouse</td>\n",
       "      <td>Accessories</td>\n",
       "      <td>50</td>\n",
       "      <td>2024-07-14</td>\n",
       "      <td>8</td>\n",
       "      <td>400</td>\n",
       "      <td>Low</td>\n",
       "      <td>0.05</td>\n",
       "      <td>380.0</td>\n",
       "      <td>7</td>\n",
       "    </tr>\n",
       "    <tr>\n",
       "      <th>9</th>\n",
       "      <td>Tablet</td>\n",
       "      <td>Electronics</td>\n",
       "      <td>400</td>\n",
       "      <td>2024-09-30</td>\n",
       "      <td>3</td>\n",
       "      <td>1200</td>\n",
       "      <td>Medium</td>\n",
       "      <td>0.10</td>\n",
       "      <td>1080.0</td>\n",
       "      <td>9</td>\n",
       "    </tr>\n",
       "  </tbody>\n",
       "</table>\n",
       "</div>"
      ],
      "text/plain": [
       "     Product     Category  Price       Date  Quantity  Revenue Sales_Level  \\\n",
       "0     Laptop  Electronics   1500 2024-01-15         2     3000        High   \n",
       "1      Phone  Electronics    800 2024-02-10         5     4000        High   \n",
       "2      Chair    Furniture    120 2024-03-15         3      360         Low   \n",
       "3       Desk    Furniture    300 2024-03-18         1      300         Low   \n",
       "4  Headphone  Accessories    200 2024-04-12         4      800      Medium   \n",
       "5    Monitor  Electronics    600 2024-05-20         2     1200      Medium   \n",
       "6       Sofa    Furniture    700 2024-06-20         1      700      Medium   \n",
       "7   Keyboard  Accessories    150 2024-02-08         6      900      Medium   \n",
       "8      Mouse  Accessories     50 2024-07-14         8      400         Low   \n",
       "9     Tablet  Electronics    400 2024-09-30         3     1200      Medium   \n",
       "\n",
       "   Discount  Final_Revenue  Month  \n",
       "0      0.10         2700.0      1  \n",
       "1      0.10         3600.0      2  \n",
       "2      0.05          342.0      3  \n",
       "3      0.05          285.0      3  \n",
       "4      0.05          760.0      4  \n",
       "5      0.10         1080.0      5  \n",
       "6      0.05          665.0      6  \n",
       "7      0.05          855.0      2  \n",
       "8      0.05          380.0      7  \n",
       "9      0.10         1080.0      9  "
      ]
     },
     "execution_count": 142,
     "metadata": {},
     "output_type": "execute_result"
    }
   ],
   "source": [
    "df[\"Month\"] = df[\"Date\"].dt.month\n",
    "df"
   ]
  },
  {
   "cell_type": "markdown",
   "metadata": {},
   "source": [
    "19. Vẽ biểu đồ đường thể hiện tổng doanh thu theo tháng."
   ]
  },
  {
   "cell_type": "code",
   "execution_count": 143,
   "metadata": {},
   "outputs": [
    {
     "data": {
      "image/png": "[encoded data removed]",
      "text/plain": [
       "<Figure size 1000x500 with 1 Axes>"
      ]
     },
     "metadata": {},
     "output_type": "display_data"
    }
   ],
   "source": [
    "monthly_revenue = df.groupby(\"Month\")[\"Revenue\"].sum()\n",
    "plt.figure(figsize=(10,5))\n",
    "sns.lineplot(x=monthly_revenue.index, y=monthly_revenue.values, marker=\"o\")\n",
    "plt.xticks(monthly_revenue.index)\n",
    "plt.title(\"Total Revenue by Month\")\n",
    "plt.show()"
   ]
  },
  {
   "cell_type": "markdown",
   "metadata": {},
   "source": [
    "20. Lưu DataFrame với tên <BKT_MSSV_Hoten.csv-->"
   ]
  },
  {
   "cell_type": "code",
   "execution_count": 144,
   "metadata": {},
   "outputs": [],
   "source": [
    "df.to_csv(\"BKT_197CT22058_NguyenVanChuyen.csv\", index=False)"
   ]
  }
 ],
 "metadata": {
  "kernelspec": {
   "display_name": "Python 3",
   "language": "python",
   "name": "python3"
  },
  "language_info": {
   "codemirror_mode": {
    "name": "ipython",
    "version": 3
   },
   "file_extension": ".py",
   "mimetype": "text/x-python",
   "name": "python",
   "nbconvert_exporter": "python",
   "pygments_lexer": "ipython3",
   "version": "3.13.2"
  }
 },
 "nbformat": 4,
 "nbformat_minor": 2
}
